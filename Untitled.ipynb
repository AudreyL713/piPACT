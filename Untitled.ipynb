{
 "cells": [
  {
   "cell_type": "code",
   "execution_count": 3,
   "metadata": {},
   "outputs": [
    {
     "data": {
      "text/plain": [
       "[-31,\n",
       " -36,\n",
       " -34,\n",
       " -34,\n",
       " -31,\n",
       " -34,\n",
       " -30,\n",
       " -30,\n",
       " -30,\n",
       " -34,\n",
       " -34,\n",
       " -34,\n",
       " -33,\n",
       " -34,\n",
       " -33,\n",
       " -34,\n",
       " -34]"
      ]
     },
     "execution_count": 3,
     "metadata": {},
     "output_type": "execute_result"
    }
   ],
   "source": [
    "import matplotlib.pyplot as plt\n",
    "import pandas as pd\n",
    "import numpy as np\n",
    "import os\n",
    "import re\n",
    "import logging\n",
    "import logging.config\n",
    "#################\n",
    "\n",
    "import argparse\n",
    "import sys\n",
    "import yaml\n",
    "\n",
    "def parse_data(file_location):\n",
    "    #read RSSI column from file\n",
    "    file_data = pd.read_csv(file_location)\n",
    "    scan_values = file_data[\"RSSI\"].tolist()\n",
    "\n",
    "    return scan_values\n",
    "\n",
    "\n",
    "def plot_all(file_location):\n",
    "    scan_values = parse_data(file_location)\n",
    "    x_values = list(scans_dict.keys())\n",
    "\n",
    "    fig1, ax1 = plt.subplots()\n",
    "    ax1.set_title('Basic Plot')\n",
    "    ax1.boxplot(data)\n",
    "\n",
    "    scans_mean = np.array([np.mean(y) for x,y in sorted(scans_dict.items())])\n",
    "    scans_std = np.array([np.std(y) for x,y in sorted(scans_dict.items())])\n",
    "    ax.errorbar(x_values, scans_mean, yerr=scans_std, label=\"mean accuracy\")\n",
    "\n",
    "    ax.set_title(\"RSSI Values vs. Distance Between Pi's\")\n",
    "    ax.set_xlabel(\"Distance Between Pi's (inches)\")\n",
    "    ax.set_ylabel('RSSI Values')\n",
    "    ax.grid(True)\n",
    "    ax.legend()\n",
    "\n",
    "    plt.show()\n",
    "    print(scans_mean)\n",
    "\n",
    "    pass\n",
    "    \n",
    "parse_data(\"scan_1.csv\")\n"
   ]
  }
 ],
 "metadata": {
  "kernelspec": {
   "display_name": "Python 3",
   "language": "python",
   "name": "python3"
  },
  "language_info": {
   "codemirror_mode": {
    "name": "ipython",
    "version": 3
   },
   "file_extension": ".py",
   "mimetype": "text/x-python",
   "name": "python",
   "nbconvert_exporter": "python",
   "pygments_lexer": "ipython3",
   "version": "3.7.4"
  }
 },
 "nbformat": 4,
 "nbformat_minor": 2
}
